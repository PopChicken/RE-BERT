{
  "cells": [
    {
      "cell_type": "markdown",
      "metadata": {
        "id": "d7F24wi-bXEG"
      },
      "source": [
        "# 下载模型"
      ]
    },
    {
      "cell_type": "code",
      "execution_count": null,
      "metadata": {
        "colab": {
          "base_uri": "https://localhost:8080/"
        },
        "id": "bakFmMM2JGR3",
        "outputId": "d17f0747-b79a-4d92-c239-cb5a7b50eca4"
      },
      "outputs": [],
      "source": [
        "!gdown https://drive.google.com/uc?id=1-5v7gCPWaKKBtJVu0KZwvlDyEia40crr"
      ]
    },
    {
      "cell_type": "markdown",
      "metadata": {
        "id": "qB-cgVUUSmNl"
      },
      "source": [
        "# 克隆仓库"
      ]
    },
    {
      "cell_type": "code",
      "execution_count": null,
      "metadata": {
        "colab": {
          "base_uri": "https://localhost:8080/"
        },
        "id": "YBmt7OX0PSix",
        "outputId": "c3325fe8-1ff9-496b-9907-bc078a578c8d"
      },
      "outputs": [],
      "source": [
        "!git clone https://github.com/adailtonaraujo/RE-BERT\n",
        "!mv RE-BERT/* ."
      ]
    },
    {
      "cell_type": "markdown",
      "metadata": {
        "id": "xwDbUl_4mK67"
      },
      "source": [
        "# 安装依赖"
      ]
    },
    {
      "cell_type": "code",
      "execution_count": null,
      "metadata": {
        "id": "TriRyWUlW650"
      },
      "outputs": [],
      "source": [
        "!pip install -r requirements.txt"
      ]
    },
    {
      "cell_type": "markdown",
      "metadata": {
        "id": "c27WbNtJaL6_"
      },
      "source": [
        "# 加载模型"
      ]
    },
    {
      "cell_type": "code",
      "execution_count": null,
      "metadata": {
        "colab": {
          "base_uri": "https://localhost:8080/"
        },
        "id": "Wam3PqGvVzpt",
        "outputId": "6d912780-c55f-4667-df62-020909816e6a"
      },
      "outputs": [],
      "source": [
        "\n",
        "from re_bert_demo import re_bert_model\n",
        "from re_bert_demo import extract\n",
        "import numpy as np\n",
        "\n",
        "options = ['--classifier_model_file','demo_api_8apps_v1.model']\n",
        "model = re_bert_model(options)  # 加载模型"
      ]
    },
    {
      "cell_type": "markdown",
      "metadata": {
        "id": "3eIA72_-onEU"
      },
      "source": [
        "# 用例1\n",
        "\n",
        "> I use the app to apply filters to my photos and it's really fun."
      ]
    },
    {
      "cell_type": "code",
      "execution_count": null,
      "metadata": {
        "colab": {
          "base_uri": "https://localhost:8080/"
        },
        "id": "vwk_jjopk8xT",
        "outputId": "ddec1dab-789c-42f5-c93c-2d7446f66b70"
      },
      "outputs": [],
      "source": [
        "review = \"I use the app to apply filters to my photos and it's really fun.\"\n",
        "predictions,requirements_extracted = extract(model,review)\n",
        "\n",
        "\n",
        "print('\\n\\nReview: ',review)\n",
        "print('Software Requirements Extracted (in each sentence):',requirements_extracted)\n",
        "\n",
        "for item in predictions:\n",
        "  sentence = item[0]\n",
        "  software_requirements = item[1]\n",
        "  iob_classification = item[2]\n",
        "  print('\\n\\nSentence:',sentence)\n",
        "  print('Software Requirements Tokens:',software_requirements)\n",
        "  for tokens_res in iob_classification:\n",
        "    token = tokens_res[0]\n",
        "    confidence = np.max(tokens_res[1]['confidences'])\n",
        "    iob_class = np.max(tokens_res[1]['iob'])\n",
        "    iob_tag = 'O'\n",
        "    if iob_class == 0: iob_tag='B'\n",
        "    if iob_class == 1: iob_tag='I'\n",
        "    print('Token [',token,'] is tag [',iob_tag,'] with',confidence,'confidence.')"
      ]
    },
    {
      "cell_type": "markdown",
      "metadata": {
        "id": "7s6Clg3eoxm2"
      },
      "source": [
        "# 用例2\n",
        "\n",
        "> I am trying to set up a business account and change my email address and I am having the most difficulty using your app its totally ridiculous! And another thing I am unable to see prices until driver has been found."
      ]
    },
    {
      "cell_type": "code",
      "execution_count": null,
      "metadata": {
        "colab": {
          "base_uri": "https://localhost:8080/"
        },
        "id": "MHRVTWE8nzLN",
        "outputId": "ca9e1322-3c71-46ad-ed8e-85a7a36aca9f"
      },
      "outputs": [],
      "source": [
        "review = \"I am trying to set up a business account and change my email address and I am having the most difficulty using your app its totally ridiculous! And another thing I am unable to see prices until driver has been found.\"\n",
        "predictions,requirements_extracted = extract(model,review)\n",
        "\n",
        "\n",
        "print('\\n\\nReview: ',review)\n",
        "print('Software Requirements Extracted (in each sentence):',requirements_extracted)\n",
        "\n",
        "for item in predictions:\n",
        "  sentence = item[0]\n",
        "  software_requirements = item[1]\n",
        "  iob_classification = item[2]\n",
        "  print('\\n\\nSentence:',sentence)\n",
        "  print('Software Requirements Tokens:',software_requirements)\n",
        "  for tokens_res in iob_classification:\n",
        "    token = tokens_res[0]\n",
        "    confidence = np.max(tokens_res[1]['confidences'])\n",
        "    iob_class = np.max(tokens_res[1]['iob'])\n",
        "    iob_tag = 'O'\n",
        "    if iob_class == 0: iob_tag='B'\n",
        "    if iob_class == 1: iob_tag='I'\n",
        "    print('Token [',token,'] is tag [',iob_tag,'] with',confidence,'confidence.')"
      ]
    },
    {
      "cell_type": "markdown",
      "metadata": {},
      "source": [
        "## 模型评估\n",
        "\n",
        "**生成标注文件**"
      ]
    },
    {
      "cell_type": "code",
      "execution_count": null,
      "metadata": {},
      "outputs": [],
      "source": [
        "!python extract.py --test_file test_data_Twitter.txt --classifier_model_file demo_api_8apps_v1.model --output_file Twitter_extracted_reqs.txt"
      ]
    },
    {
      "cell_type": "markdown",
      "metadata": {},
      "source": [
        "**与人工标注比对**"
      ]
    },
    {
      "cell_type": "code",
      "execution_count": null,
      "metadata": {},
      "outputs": [],
      "source": [
        "reviews_test = open('datasets_iob/test_data_Twitter.txt', 'r').readlines()\n",
        "reqs_exracted =  open('Twitter_extracted_reqs.txt', 'r').readlines()\n",
        "reqs_labeled =  open('datasets_iob/test_label_Twitter.txt', 'r').readlines()"
      ]
    },
    {
      "cell_type": "code",
      "execution_count": null,
      "metadata": {},
      "outputs": [],
      "source": [
        "import pandas as pd\n",
        "\n",
        "pd.set_option('display.max_colwidth', None)\n",
        "pd.set_option('display.max_rows', None)\n",
        "\n",
        "df = pd.DataFrame()\n",
        "df['review'] = reviews_test\n",
        "df['labeled (humans)'] = reqs_labeled\n",
        "df['extracted (re-bert)'] = reqs_exracted\n",
        "df = df.replace('\\n',' ', regex=True)\n",
        "df"
      ]
    }
  ],
  "metadata": {
    "accelerator": "GPU",
    "colab": {
      "collapsed_sections": [],
      "name": "Pre-trained RE-BERT Model - API Demo.ipynb",
      "provenance": [],
      "toc_visible": true
    },
    "kernelspec": {
      "display_name": "Python 3.10.0 64-bit ('3.10.0')",
      "language": "python",
      "name": "python3"
    },
    "language_info": {
      "name": "python",
      "version": "3.10.0"
    },
    "vscode": {
      "interpreter": {
        "hash": "0838e1853ac9b69cd2ebaa278a6b4e341d1ca5c2a73e9e479b20533bfa70ed2b"
      }
    }
  },
  "nbformat": 4,
  "nbformat_minor": 0
}
